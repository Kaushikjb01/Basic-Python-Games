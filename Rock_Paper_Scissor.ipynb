{
 "cells": [
  {
   "cell_type": "code",
   "execution_count": null,
   "id": "3f393488",
   "metadata": {},
   "outputs": [],
   "source": [
    "import random\n",
    "\n",
    "user_wins=0\n",
    "comp_wins=0\n",
    "\n",
    "options = [\"rock\",\"paper\",\"scissor\"]\n",
    "\n",
    "while True:\n",
    "    user_input = input(\"Type Rock/Paper/Scissor of q to end the game: \").lower()\n",
    "    \n",
    "    if user_input == 'q':\n",
    "        break\n",
    "    \n",
    "    if user_input not in options:\n",
    "        print(\"Not a valid option type again\")\n",
    "        continue\n",
    "    \n",
    "    random_number = random.randint(0,2)\n",
    "    #Rock = 0\n",
    "    #Paper = 1\n",
    "    #Scissor = 2\n",
    "    comp_pick=options[random_number]\n",
    "    print(\"Computer picked\",comp_pick)\n",
    "    \n",
    "    if user_input==\"rock\" and comp_pick==\"scissor\":\n",
    "        print(\"You won!\")\n",
    "        user_wins+=1\n",
    "    elif user_input==\"paper\" and comp_pick==\"rock\":\n",
    "        print(\"You won!\")\n",
    "        user_wins+=1\n",
    "    elif user_input==\"scissor\" and comp_pick==\"paper\":\n",
    "        print(\"You won!\")\n",
    "        user_wins+=1\n",
    "    else:\n",
    "        print(\"You lost!\")\n",
    "        comp_wins+=1\n",
    "print(\"You won\",user_wins,\"times.\")\n",
    "print(\"Computer won\",comp_wins,\"times.\")\n",
    "print(\"Thank you for playing and goodbye<3\")"
   ]
  }
 ],
 "metadata": {
  "kernelspec": {
   "display_name": "Python 3 (ipykernel)",
   "language": "python",
   "name": "python3"
  },
  "language_info": {
   "codemirror_mode": {
    "name": "ipython",
    "version": 3
   },
   "file_extension": ".py",
   "mimetype": "text/x-python",
   "name": "python",
   "nbconvert_exporter": "python",
   "pygments_lexer": "ipython3",
   "version": "3.9.13"
  }
 },
 "nbformat": 4,
 "nbformat_minor": 5
}
