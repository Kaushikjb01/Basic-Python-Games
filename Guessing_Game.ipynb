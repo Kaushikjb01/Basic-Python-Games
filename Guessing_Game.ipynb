{
  "nbformat": 4,
  "nbformat_minor": 0,
  "metadata": {
    "colab": {
      "provenance": [],
      "gpuType": "T4"
    },
    "kernelspec": {
      "name": "python3",
      "display_name": "Python 3"
    },
    "language_info": {
      "name": "python"
    },
    "accelerator": "GPU",
    "gpuClass": "standard"
  },
  "cells": [
    {
      "cell_type": "code",
      "execution_count": null,
      "metadata": {
        "id": "8LwVGgT5d8k-"
      },
      "outputs": [],
      "source": [
        "import random\n",
        "\n",
        "top_of_range = input(\"Type a number\\n\");\n",
        "\n",
        "if top_of_range.isdigit():\n",
        "  top_of_range = int(top_of_range)\n",
        "  if top_of_range<=0:\n",
        "    print(\"Please type a number greater than 0 next time\")\n",
        "    quit()\n",
        "else:\n",
        "  print(\"Please type a digit next time\")\n",
        "  quit()\n",
        "\n",
        "number = random.randint(0,top_of_range)\n",
        "\n",
        "tries=0\n",
        "\n",
        "while True:\n",
        "    user_guess = input(\"Make a guess: \")\n",
        "    tries+=1\n",
        "    if user_guess.isdigit():\n",
        "        user_guess = int(user_guess)\n",
        "    else:\n",
        "        print(\"Please type a digit next time\")\n",
        "        continue\n",
        "    if user_guess==number:\n",
        "        print(\"You got it!!!\")\n",
        "        break\n",
        "    else:\n",
        "        if user_guess > number:\n",
        "            print(\"Guess Lower\")\n",
        "        else:\n",
        "            print(\"Guess Higher\")\n",
        "\n",
        "print(\"It took you\",tries,\"tries to guess the random number\")\n"
      ]
    }
  ]
}